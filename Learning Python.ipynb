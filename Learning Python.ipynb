{
 "cells": [
  {
   "cell_type": "markdown",
   "id": "0b005db7",
   "metadata": {},
   "source": [
    "# Learning Python using Jupyter Notebook\n",
    "#### In this notebook we'll be covering:\n",
    "1. Variables\n",
    "2. Datatypes\n",
    "    * Integer\n",
    "    * String\n",
    "    * Boolean\n",
    "    * List\n",
    "    * Tuple\n",
    "    * Set\n",
    "    * Float\n",
    "3. Conditions\n",
    "    * if\n",
    "    * else\n",
    "4. Loops\n",
    "    * for\n",
    "    * while\n",
    "5. Functions"
   ]
  },
  {
   "cell_type": "markdown",
   "id": "e9f3f29c",
   "metadata": {},
   "source": [
    "### Variables"
   ]
  },
  {
   "cell_type": "code",
   "execution_count": 5,
   "id": "854d7419",
   "metadata": {},
   "outputs": [],
   "source": [
    "my_var = \"hello world\""
   ]
  },
  {
   "cell_type": "code",
   "execution_count": 6,
   "id": "7277285b",
   "metadata": {},
   "outputs": [
    {
     "name": "stdout",
     "output_type": "stream",
     "text": [
      "hello world\n"
     ]
    }
   ],
   "source": [
    "print(my_var)"
   ]
  },
  {
   "cell_type": "code",
   "execution_count": 7,
   "id": "8414566a",
   "metadata": {},
   "outputs": [
    {
     "data": {
      "text/plain": [
       "str"
      ]
     },
     "execution_count": 7,
     "metadata": {},
     "output_type": "execute_result"
    }
   ],
   "source": [
    "type(my_var)"
   ]
  },
  {
   "cell_type": "markdown",
   "id": "12254be4",
   "metadata": {},
   "source": [
    "### Datatypes"
   ]
  },
  {
   "cell_type": "code",
   "execution_count": 9,
   "id": "5e5e8d35",
   "metadata": {},
   "outputs": [
    {
     "name": "stdout",
     "output_type": "stream",
     "text": [
      "variable value\n"
     ]
    }
   ],
   "source": [
    "# declaring a variable\n",
    "variable_name = 'variable value'\n",
    "type(variable_name) # Showing the datatype\n",
    "print(variable_name)"
   ]
  },
  {
   "cell_type": "code",
   "execution_count": 10,
   "id": "6a2cd07b",
   "metadata": {},
   "outputs": [
    {
     "name": "stdout",
     "output_type": "stream",
     "text": [
      "True\n",
      "True\n"
     ]
    }
   ],
   "source": [
    "# type casting - converting types\n",
    "bool_var = True\n",
    "print(bool_var)\n",
    "converter_bool = bool(1)\n",
    "print(converter_bool)"
   ]
  },
  {
   "cell_type": "code",
   "execution_count": 18,
   "id": "94f83a3f",
   "metadata": {},
   "outputs": [
    {
     "data": {
      "text/plain": [
       "list"
      ]
     },
     "execution_count": 18,
     "metadata": {},
     "output_type": "execute_result"
    }
   ],
   "source": [
    "# lists\n",
    "list_var = [1,2,3,4,5,6,1,2]\n",
    "type(list_var)"
   ]
  },
  {
   "cell_type": "code",
   "execution_count": 15,
   "id": "637eaf7a",
   "metadata": {},
   "outputs": [
    {
     "data": {
      "text/plain": [
       "tuple"
      ]
     },
     "execution_count": 15,
     "metadata": {},
     "output_type": "execute_result"
    }
   ],
   "source": [
    "# tuples IMMUTABLE(cant change values)\n",
    "tuple_var = (1,2,3,4,5,6)\n",
    "type(tuple_var)"
   ]
  },
  {
   "cell_type": "code",
   "execution_count": 16,
   "id": "bc042f85",
   "metadata": {},
   "outputs": [
    {
     "data": {
      "text/plain": [
       "set"
      ]
     },
     "execution_count": 16,
     "metadata": {},
     "output_type": "execute_result"
    }
   ],
   "source": [
    "# Set IMMUTABLE, cant contain duplicates - can be used to typecast a list / tuple to get rid of duplicates\n",
    "set_var = {1,2,3,4,5,6}\n",
    "type(set_var)"
   ]
  },
  {
   "cell_type": "code",
   "execution_count": 20,
   "id": "a98e2540",
   "metadata": {},
   "outputs": [
    {
     "data": {
      "text/plain": [
       "[1, 2, 3, 4, 5, 6]"
      ]
     },
     "execution_count": 20,
     "metadata": {},
     "output_type": "execute_result"
    }
   ],
   "source": [
    "list(set(list_var))"
   ]
  },
  {
   "cell_type": "code",
   "execution_count": 24,
   "id": "117e44af",
   "metadata": {},
   "outputs": [
    {
     "data": {
      "text/plain": [
       "'My Name'"
      ]
     },
     "execution_count": 24,
     "metadata": {},
     "output_type": "execute_result"
    }
   ],
   "source": [
    "# Dictonary\n",
    "person = {'name': \"My Name\", 'age': 30, 'height': \"180cm\"}\n",
    "person['name']"
   ]
  },
  {
   "cell_type": "markdown",
   "id": "fbffb0cf",
   "metadata": {},
   "source": [
    "### Conditions and Loops"
   ]
  },
  {
   "cell_type": "code",
   "execution_count": 9,
   "id": "e8c94340",
   "metadata": {},
   "outputs": [
    {
     "name": "stdout",
     "output_type": "stream",
     "text": [
      "you are 26 meaning you are past your mid twenties!\n"
     ]
    }
   ],
   "source": [
    "# If & elif & else statements\n",
    "age = 26\n",
    "if age > 25: # check this\n",
    "    print('you are', age, 'meaning you are past your mid twenties!')\n",
    "elif age == 25: # otherwise check this\n",
    "    print('right on the money')\n",
    "else: # if all else fails, do this\n",
    "    print('you are', age, 'meaning you are yound and beatuiful')\n",
    "    "
   ]
  },
  {
   "cell_type": "code",
   "execution_count": 18,
   "id": "f646b001",
   "metadata": {},
   "outputs": [
    {
     "name": "stdout",
     "output_type": "stream",
     "text": [
      "you are 24 meaning you are young and beatuiful\n",
      "you are 21 meaning you are young and beatuiful\n",
      "right on the money\n"
     ]
    }
   ],
   "source": [
    "# for loops, break, pass, continue statements\n",
    "# in this example we loop through the ages list, once we have a 25 y/o we stop the run\n",
    "ages = [26, 24, 21, 29, 25, 30, 27]\n",
    "for age in ages: \n",
    "    if age < 25: # check this\n",
    "        print('you are', age, 'meaning you are young and beatuiful')\n",
    "        continue # go to the next item on the list\n",
    "    elif age == 25: # otherwise check this\n",
    "        print('right on the money')\n",
    "        break # stops the loop\n",
    "    else: # if all else fails, do this\n",
    "        pass # pass this item on the list\n",
    "    "
   ]
  },
  {
   "cell_type": "code",
   "execution_count": 21,
   "id": "c83bb8f8",
   "metadata": {},
   "outputs": [
    {
     "name": "stdout",
     "output_type": "stream",
     "text": [
      "0\n",
      "1\n",
      "2\n"
     ]
    }
   ],
   "source": [
    "# range loop - looping through a specific number of times\n",
    "for idx in range(3):\n",
    "    print(idx)"
   ]
  },
  {
   "cell_type": "code",
   "execution_count": 25,
   "id": "bce581df",
   "metadata": {},
   "outputs": [
    {
     "name": "stdout",
     "output_type": "stream",
     "text": [
      "shuttle 1 has been launched\n",
      "shuttle 2 has been launched\n",
      "shuttle 3 has been launched\n",
      "shuttle 4 has been launched\n",
      "shuttle 5 has been launched\n",
      "shuttle 6 has been launched\n",
      "all shuttles launched\n"
     ]
    }
   ],
   "source": [
    "# while loop\n",
    "launched_shuttles = 0\n",
    "total_shuttles = 6\n",
    "\n",
    "while True:\n",
    "    print('shuttle {} has been launched'.format(launched_shuttles+1))\n",
    "    launched_shuttles += 1\n",
    "    \n",
    "    if launched_shuttles == total_shuttles:\n",
    "        print('all shuttles launched')\n",
    "        break # break out when all shuttles launched"
   ]
  },
  {
   "cell_type": "code",
   "execution_count": 32,
   "id": "6442096b",
   "metadata": {},
   "outputs": [
    {
     "name": "stdout",
     "output_type": "stream",
     "text": [
      "name Elon Musk\n",
      "age 38\n",
      "height 184\n"
     ]
    }
   ],
   "source": [
    "# looping through keys and values in dictonaries\n",
    "astronaut = {'name': 'Elon Musk', 'age':38, 'height': 184}\n",
    "# for key in astronaut.keys():\n",
    "#     print(key)\n",
    "    \n",
    "# for value in astronaut.values():\n",
    "#     print(value)\n",
    "    \n",
    "for key, value in astronaut.items():\n",
    "    print(key, value)"
   ]
  },
  {
   "cell_type": "markdown",
   "id": "7f50c16a",
   "metadata": {},
   "source": [
    "### Functions\n"
   ]
  },
  {
   "cell_type": "code",
   "execution_count": 2,
   "id": "45c3c78a",
   "metadata": {},
   "outputs": [
    {
     "name": "stdout",
     "output_type": "stream",
     "text": [
      "Welcome to the Launchpad\n"
     ]
    }
   ],
   "source": [
    "# defining a function\n",
    "def welcome():\n",
    "    print('Welcome to the Launchpad')\n",
    "# calling a function\n",
    "welcome()"
   ]
  },
  {
   "cell_type": "code",
   "execution_count": 6,
   "id": "cbb46079",
   "metadata": {},
   "outputs": [
    {
     "name": "stdout",
     "output_type": "stream",
     "text": [
      "Welcome Josh to the SS Voyager\n",
      "Welcome Bill to the Sky Reaper\n",
      "Welcome Irine to the Pink Lady\n"
     ]
    }
   ],
   "source": [
    "# a function can accepts arguments\n",
    "names = [\"Josh\", \"Bill\", \"Irine\"]\n",
    "ships = [\"SS Voyager\", \"Sky Reaper\", \"Pink Lady\"]\n",
    "def custom_welcome(name, ship):\n",
    "    print('Welcome {} to the {}'.format(name, ship))\n",
    "    \n",
    "for idx, name in enumerate(names):\n",
    "    ship = ships[idx]\n",
    "    custom_welcome(name, ship)"
   ]
  }
 ],
 "metadata": {
  "kernelspec": {
   "display_name": "Python 3 (ipykernel)",
   "language": "python",
   "name": "python3"
  },
  "language_info": {
   "codemirror_mode": {
    "name": "ipython",
    "version": 3
   },
   "file_extension": ".py",
   "mimetype": "text/x-python",
   "name": "python",
   "nbconvert_exporter": "python",
   "pygments_lexer": "ipython3",
   "version": "3.9.6"
  }
 },
 "nbformat": 4,
 "nbformat_minor": 5
}
